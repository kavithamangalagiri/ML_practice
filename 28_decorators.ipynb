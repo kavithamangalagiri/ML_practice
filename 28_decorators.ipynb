{
 "cells": [
  {
   "cell_type": "raw",
   "id": "995e19ed",
   "metadata": {},
   "source": [
    "Exercise: Decorators\n",
    "Create a decorator function to check that the argument passed to the function factorial is a non-negative integer:\n",
    "\n",
    "Create a factorial function which finds the factorial of a number.\n",
    "\n",
    "Use the decorator to decorate the factorial function to only allow factorial of non-negative integers.\n",
    "\n",
    "example: \n",
    "\n",
    "    factorial(1.354) : raise Exception or print error message\n",
    "    factorial(-1) : raise Exception or print error message\n",
    "    factorial(5) : 60"
   ]
  },
  {
   "cell_type": "code",
   "execution_count": 4,
   "id": "bf17daed",
   "metadata": {},
   "outputs": [],
   "source": [
    "import time\n",
    "\n",
    "def calc_square(numbers):\n",
    "    start=  time.time()\n",
    "    result= []\n",
    "    for number in numbers:\n",
    "        result.append(number*number)\n",
    "    end = time.time()\n",
    "    print(\"clac_square took \"+ str((end-start)*1000)+ \" milli sec\")\n",
    "    return result"
   ]
  },
  {
   "cell_type": "code",
   "execution_count": 6,
   "id": "4be0b5a6",
   "metadata": {},
   "outputs": [],
   "source": [
    "x = [1,2,34,5]"
   ]
  },
  {
   "cell_type": "code",
   "execution_count": 7,
   "id": "0ed56e65",
   "metadata": {},
   "outputs": [
    {
     "name": "stdout",
     "output_type": "stream",
     "text": [
      "clac_square took 0.0 milli sec\n"
     ]
    },
    {
     "data": {
      "text/plain": [
       "[1, 4, 1156, 25]"
      ]
     },
     "execution_count": 7,
     "metadata": {},
     "output_type": "execute_result"
    }
   ],
   "source": [
    "calc_square(x)"
   ]
  },
  {
   "cell_type": "code",
   "execution_count": null,
   "id": "8e482f4b",
   "metadata": {},
   "outputs": [],
   "source": [
    "                                    start=  time.time()\n",
    "    result= []\n",
    "    for number in numbers:\n",
    "        result.append(number*number)\n",
    "    end = time.time()\n",
    "    print(\"clac_square took \"+ str((end-start)*1000)+ \" milli sec\")\n",
    "    return result"
   ]
  }
 ],
 "metadata": {
  "kernelspec": {
   "display_name": "Python 3 (ipykernel)",
   "language": "python",
   "name": "python3"
  },
  "language_info": {
   "codemirror_mode": {
    "name": "ipython",
    "version": 3
   },
   "file_extension": ".py",
   "mimetype": "text/x-python",
   "name": "python",
   "nbconvert_exporter": "python",
   "pygments_lexer": "ipython3",
   "version": "3.9.13"
  }
 },
 "nbformat": 4,
 "nbformat_minor": 5
}
